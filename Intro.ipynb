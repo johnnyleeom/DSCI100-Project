{
 "cells": [
  {
   "cell_type": "markdown",
   "id": "204b6f30-9e06-44a7-8b52-be14c413ff61",
   "metadata": {},
   "source": [
    "hello, this is our group \n",
    "\n",
    "askdlfjadklsjflkdasjfdkjf;\n",
    "\n",
    "ijijijjijiji"
   ]
  },
  {
   "cell_type": "markdown",
   "id": "fc64c61d-2da1-492a-b546-934bce87d68a",
   "metadata": {},
   "source": [
    "hello hi \n"
   ]
  },
  {
   "cell_type": "code",
   "execution_count": null,
   "id": "75ea7abe-6c68-49c8-aefa-806ea6267806",
   "metadata": {},
   "outputs": [],
   "source": []
  }
 ],
 "metadata": {
  "kernelspec": {
   "display_name": "R",
   "language": "R",
   "name": "ir"
  },
  "language_info": {
   "codemirror_mode": "r",
   "file_extension": ".r",
   "mimetype": "text/x-r-source",
   "name": "R",
   "pygments_lexer": "r",
   "version": "4.3.3"
  }
 },
 "nbformat": 4,
 "nbformat_minor": 5
}
